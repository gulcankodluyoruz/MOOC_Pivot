{
 "cells": [
  {
   "cell_type": "markdown",
   "metadata": {},
   "source": [
    "# The MOOC Pivot: Base code"
   ]
  },
  {
   "cell_type": "markdown",
   "metadata": {},
   "source": [
    "Author: José A. Rupérez Valiente\n",
    "Email: jruipere@mit.edu"
   ]
  },
  {
   "cell_type": "markdown",
   "metadata": {},
   "source": [
    "## Libraries"
   ]
  },
  {
   "cell_type": "code",
   "execution_count": 1,
   "metadata": {},
   "outputs": [],
   "source": [
    "import pandas as pd\n",
    "import numpy as np"
   ]
  },
  {
   "cell_type": "markdown",
   "metadata": {},
   "source": [
    "## Data loading"
   ]
  },
  {
   "cell_type": "code",
   "execution_count": 44,
   "metadata": {},
   "outputs": [
    {
     "name": "stderr",
     "output_type": "stream",
     "text": [
      "/anaconda3/lib/python3.6/site-packages/IPython/core/interactiveshell.py:2728: DtypeWarning: Columns (4) have mixed types. Specify dtype option on import or set low_memory=False.\n",
      "  interactivity=interactivity, compiler=compiler, result=result)\n"
     ]
    }
   ],
   "source": [
    "# Importing the person_course dataset\n",
    "all_person_course = pd.read_csv('person_course.csv')"
   ]
  },
  {
   "cell_type": "code",
   "execution_count": 45,
   "metadata": {},
   "outputs": [],
   "source": [
    "# Importing course metadata\n",
    "course_metadata = pd.read_csv('course_metadata.csv')"
   ]
  },
  {
   "cell_type": "code",
   "execution_count": 46,
   "metadata": {},
   "outputs": [],
   "source": [
    "# Importing country metadata from the United Nations\n",
    "country_metadata = pd.read_csv('country_metadata.csv')"
   ]
  },
  {
   "cell_type": "markdown",
   "metadata": {},
   "source": [
    "## Data cleaning and filtering"
   ]
  },
  {
   "cell_type": "code",
   "execution_count": 47,
   "metadata": {},
   "outputs": [],
   "source": [
    "all_person_course.rename(columns = {'cc_by_ip':'alpha-2'}, inplace = True)"
   ]
  },
  {
   "cell_type": "code",
   "execution_count": 48,
   "metadata": {},
   "outputs": [],
   "source": [
    "# keeping only students, removing course staff\n",
    "all_person_course = all_person_course[all_person_course['roles'] == 'Student']"
   ]
  },
  {
   "cell_type": "code",
   "execution_count": 49,
   "metadata": {},
   "outputs": [],
   "source": [
    "# Consolidating nationality of each user -- This is done to fix some missing values \n",
    "all_person_course = pd.merge(all_person_course[['course_id', 'user_id', 'completed', 'roles', 'viewed',\n",
    "       'explored', 'certified', 'mode', 'prs_reason_lc', 'prs_intent_verified',\n",
    "       'prs_intent_lecture', 'prs_intent_assess', 'prs_intent']],\n",
    "       all_person_course.groupby(by = 'user_id', as_index=False).agg({'alpha-2':'first'}),\n",
    "       on = 'user_id', how='left')"
   ]
  },
  {
   "cell_type": "markdown",
   "metadata": {},
   "source": [
    "## Data merging"
   ]
  },
  {
   "cell_type": "code",
   "execution_count": 50,
   "metadata": {},
   "outputs": [],
   "source": [
    "# merging both the course and country metadata into the main person_course file\n",
    "all_person_course = pd.merge(all_person_course, course_metadata, on = 'course_id', how = 'left')"
   ]
  },
  {
   "cell_type": "code",
   "execution_count": 51,
   "metadata": {},
   "outputs": [],
   "source": [
    "all_person_course = pd.merge(all_person_course, country_metadata, on = 'alpha-2', how = 'left')"
   ]
  },
  {
   "cell_type": "markdown",
   "metadata": {},
   "source": [
    "## Analysis"
   ]
  },
  {
   "cell_type": "markdown",
   "metadata": {},
   "source": [
    "### Table S2 - HarvardX and MITx Number of Enrolments and Certifications by Year"
   ]
  },
  {
   "cell_type": "code",
   "execution_count": 10,
   "metadata": {},
   "outputs": [],
   "source": [
    "# grouping by year and HDI category and summing up enrolments and certifications\n",
    "enrolments_certifications_per_year_hdi = all_person_course.groupby(['year', \n",
    "                                         'human_development_category']).agg({'user_id': 'count',\n",
    "                                         'certified':'sum'}).reset_index().rename(columns = {'user_id':'n_enrolments',\n",
    "                                                                                             'certified':'n_certified'})"
   ]
  },
  {
   "cell_type": "code",
   "execution_count": 11,
   "metadata": {},
   "outputs": [
    {
     "data": {
      "text/html": [
       "<div>\n",
       "<style scoped>\n",
       "    .dataframe tbody tr th:only-of-type {\n",
       "        vertical-align: middle;\n",
       "    }\n",
       "\n",
       "    .dataframe tbody tr th {\n",
       "        vertical-align: top;\n",
       "    }\n",
       "\n",
       "    .dataframe thead th {\n",
       "        text-align: right;\n",
       "    }\n",
       "</style>\n",
       "<table border=\"1\" class=\"dataframe\">\n",
       "  <thead>\n",
       "    <tr style=\"text-align: right;\">\n",
       "      <th></th>\n",
       "      <th>year</th>\n",
       "      <th>human_development_category</th>\n",
       "      <th>n_enrolments</th>\n",
       "      <th>n_certified</th>\n",
       "    </tr>\n",
       "  </thead>\n",
       "  <tbody>\n",
       "    <tr>\n",
       "      <th>0</th>\n",
       "      <td>Year 1</td>\n",
       "      <td>high_human_development</td>\n",
       "      <td>54483</td>\n",
       "      <td>2476</td>\n",
       "    </tr>\n",
       "    <tr>\n",
       "      <th>1</th>\n",
       "      <td>Year 1</td>\n",
       "      <td>low_human_development</td>\n",
       "      <td>12616</td>\n",
       "      <td>796</td>\n",
       "    </tr>\n",
       "    <tr>\n",
       "      <th>2</th>\n",
       "      <td>Year 1</td>\n",
       "      <td>medium_human_development</td>\n",
       "      <td>91773</td>\n",
       "      <td>3384</td>\n",
       "    </tr>\n",
       "    <tr>\n",
       "      <th>3</th>\n",
       "      <td>Year 1</td>\n",
       "      <td>very_high_human_development</td>\n",
       "      <td>205955</td>\n",
       "      <td>10798</td>\n",
       "    </tr>\n",
       "    <tr>\n",
       "      <th>4</th>\n",
       "      <td>Year 2</td>\n",
       "      <td>high_human_development</td>\n",
       "      <td>318683</td>\n",
       "      <td>8429</td>\n",
       "    </tr>\n",
       "    <tr>\n",
       "      <th>5</th>\n",
       "      <td>Year 2</td>\n",
       "      <td>low_human_development</td>\n",
       "      <td>37780</td>\n",
       "      <td>1075</td>\n",
       "    </tr>\n",
       "    <tr>\n",
       "      <th>6</th>\n",
       "      <td>Year 2</td>\n",
       "      <td>medium_human_development</td>\n",
       "      <td>501898</td>\n",
       "      <td>7742</td>\n",
       "    </tr>\n",
       "    <tr>\n",
       "      <th>7</th>\n",
       "      <td>Year 2</td>\n",
       "      <td>very_high_human_development</td>\n",
       "      <td>1359191</td>\n",
       "      <td>43235</td>\n",
       "    </tr>\n",
       "    <tr>\n",
       "      <th>8</th>\n",
       "      <td>Year 3</td>\n",
       "      <td>high_human_development</td>\n",
       "      <td>414912</td>\n",
       "      <td>10903</td>\n",
       "    </tr>\n",
       "    <tr>\n",
       "      <th>9</th>\n",
       "      <td>Year 3</td>\n",
       "      <td>low_human_development</td>\n",
       "      <td>47543</td>\n",
       "      <td>1244</td>\n",
       "    </tr>\n",
       "    <tr>\n",
       "      <th>10</th>\n",
       "      <td>Year 3</td>\n",
       "      <td>medium_human_development</td>\n",
       "      <td>773237</td>\n",
       "      <td>10915</td>\n",
       "    </tr>\n",
       "    <tr>\n",
       "      <th>11</th>\n",
       "      <td>Year 3</td>\n",
       "      <td>very_high_human_development</td>\n",
       "      <td>1583635</td>\n",
       "      <td>55674</td>\n",
       "    </tr>\n",
       "    <tr>\n",
       "      <th>12</th>\n",
       "      <td>Year 4</td>\n",
       "      <td>high_human_development</td>\n",
       "      <td>483046</td>\n",
       "      <td>9659</td>\n",
       "    </tr>\n",
       "    <tr>\n",
       "      <th>13</th>\n",
       "      <td>Year 4</td>\n",
       "      <td>low_human_development</td>\n",
       "      <td>52073</td>\n",
       "      <td>675</td>\n",
       "    </tr>\n",
       "    <tr>\n",
       "      <th>14</th>\n",
       "      <td>Year 4</td>\n",
       "      <td>medium_human_development</td>\n",
       "      <td>989163</td>\n",
       "      <td>8569</td>\n",
       "    </tr>\n",
       "    <tr>\n",
       "      <th>15</th>\n",
       "      <td>Year 4</td>\n",
       "      <td>very_high_human_development</td>\n",
       "      <td>1798426</td>\n",
       "      <td>46790</td>\n",
       "    </tr>\n",
       "    <tr>\n",
       "      <th>16</th>\n",
       "      <td>Year 5</td>\n",
       "      <td>high_human_development</td>\n",
       "      <td>335067</td>\n",
       "      <td>4626</td>\n",
       "    </tr>\n",
       "    <tr>\n",
       "      <th>17</th>\n",
       "      <td>Year 5</td>\n",
       "      <td>low_human_development</td>\n",
       "      <td>37632</td>\n",
       "      <td>436</td>\n",
       "    </tr>\n",
       "    <tr>\n",
       "      <th>18</th>\n",
       "      <td>Year 5</td>\n",
       "      <td>medium_human_development</td>\n",
       "      <td>674564</td>\n",
       "      <td>3650</td>\n",
       "    </tr>\n",
       "    <tr>\n",
       "      <th>19</th>\n",
       "      <td>Year 5</td>\n",
       "      <td>very_high_human_development</td>\n",
       "      <td>947969</td>\n",
       "      <td>17827</td>\n",
       "    </tr>\n",
       "    <tr>\n",
       "      <th>20</th>\n",
       "      <td>Year 6</td>\n",
       "      <td>high_human_development</td>\n",
       "      <td>305950</td>\n",
       "      <td>3325</td>\n",
       "    </tr>\n",
       "    <tr>\n",
       "      <th>21</th>\n",
       "      <td>Year 6</td>\n",
       "      <td>low_human_development</td>\n",
       "      <td>54975</td>\n",
       "      <td>298</td>\n",
       "    </tr>\n",
       "    <tr>\n",
       "      <th>22</th>\n",
       "      <td>Year 6</td>\n",
       "      <td>medium_human_development</td>\n",
       "      <td>576240</td>\n",
       "      <td>3265</td>\n",
       "    </tr>\n",
       "    <tr>\n",
       "      <th>23</th>\n",
       "      <td>Year 6</td>\n",
       "      <td>very_high_human_development</td>\n",
       "      <td>954426</td>\n",
       "      <td>14341</td>\n",
       "    </tr>\n",
       "  </tbody>\n",
       "</table>\n",
       "</div>"
      ],
      "text/plain": [
       "      year   human_development_category  n_enrolments  n_certified\n",
       "0   Year 1       high_human_development         54483         2476\n",
       "1   Year 1        low_human_development         12616          796\n",
       "2   Year 1     medium_human_development         91773         3384\n",
       "3   Year 1  very_high_human_development        205955        10798\n",
       "4   Year 2       high_human_development        318683         8429\n",
       "5   Year 2        low_human_development         37780         1075\n",
       "6   Year 2     medium_human_development        501898         7742\n",
       "7   Year 2  very_high_human_development       1359191        43235\n",
       "8   Year 3       high_human_development        414912        10903\n",
       "9   Year 3        low_human_development         47543         1244\n",
       "10  Year 3     medium_human_development        773237        10915\n",
       "11  Year 3  very_high_human_development       1583635        55674\n",
       "12  Year 4       high_human_development        483046         9659\n",
       "13  Year 4        low_human_development         52073          675\n",
       "14  Year 4     medium_human_development        989163         8569\n",
       "15  Year 4  very_high_human_development       1798426        46790\n",
       "16  Year 5       high_human_development        335067         4626\n",
       "17  Year 5        low_human_development         37632          436\n",
       "18  Year 5     medium_human_development        674564         3650\n",
       "19  Year 5  very_high_human_development        947969        17827\n",
       "20  Year 6       high_human_development        305950         3325\n",
       "21  Year 6        low_human_development         54975          298\n",
       "22  Year 6     medium_human_development        576240         3265\n",
       "23  Year 6  very_high_human_development        954426        14341"
      ]
     },
     "execution_count": 11,
     "metadata": {},
     "output_type": "execute_result"
    }
   ],
   "source": [
    "enrolments_certifications_per_year_hdi"
   ]
  },
  {
   "cell_type": "code",
   "execution_count": 12,
   "metadata": {},
   "outputs": [],
   "source": [
    "enrolments_certifications_per_year_hdi.to_csv('Table_S2.csv', index = False)"
   ]
  },
  {
   "cell_type": "markdown",
   "metadata": {},
   "source": [
    "### Table S4 - Mean, Median and Std. Deviation of Participation/Completion by HarvardX and MITx Course"
   ]
  },
  {
   "cell_type": "code",
   "execution_count": 13,
   "metadata": {},
   "outputs": [],
   "source": [
    "# aggregating participation and completion by course\n",
    "data_by_course = all_person_course.groupby('course_id').agg({'user_id': 'count',\n",
    "                                           'viewed': 'sum', 'explored': 'sum',\n",
    "                                           'completed': 'sum',\n",
    "                                           'certified': 'sum'}).reset_index().rename(columns = {'user_id':'registrations'})"
   ]
  },
  {
   "cell_type": "code",
   "execution_count": 14,
   "metadata": {},
   "outputs": [],
   "source": [
    "# computing percentage from registrants\n",
    "data_by_course['p_participants'] = round(100*data_by_course['viewed']/data_by_course['registrations'],2)"
   ]
  },
  {
   "cell_type": "code",
   "execution_count": 15,
   "metadata": {},
   "outputs": [],
   "source": [
    "# computing percentages from participants\n",
    "data_by_course[['p_explored','p_completed','p_certified']] = round(100*data_by_course[['explored','completed','certified']].div(data_by_course.viewed, axis=0),2)"
   ]
  },
  {
   "cell_type": "code",
   "execution_count": 16,
   "metadata": {},
   "outputs": [],
   "source": [
    "# Removing some infinite rows due to some data issues\n",
    "data_by_course = data_by_course[~(data_by_course['p_completed'] == np.inf)]"
   ]
  },
  {
   "cell_type": "code",
   "execution_count": 17,
   "metadata": {},
   "outputs": [],
   "source": [
    "# Computing mean, median and std. deviation by course\n",
    "agg_data_by_course = round(data_by_course.agg({'p_participants':['mean', 'median', 'std'],\n",
    "                                               'p_explored':['mean', 'median', 'std'],\n",
    "                                               'p_completed':['mean', 'median', 'std'],\n",
    "                                               'p_certified':['mean', 'median', 'std']}),2)"
   ]
  },
  {
   "cell_type": "code",
   "execution_count": 18,
   "metadata": {},
   "outputs": [
    {
     "data": {
      "text/html": [
       "<div>\n",
       "<style scoped>\n",
       "    .dataframe tbody tr th:only-of-type {\n",
       "        vertical-align: middle;\n",
       "    }\n",
       "\n",
       "    .dataframe tbody tr th {\n",
       "        vertical-align: top;\n",
       "    }\n",
       "\n",
       "    .dataframe thead th {\n",
       "        text-align: right;\n",
       "    }\n",
       "</style>\n",
       "<table border=\"1\" class=\"dataframe\">\n",
       "  <thead>\n",
       "    <tr style=\"text-align: right;\">\n",
       "      <th></th>\n",
       "      <th>p_participants</th>\n",
       "      <th>p_explored</th>\n",
       "      <th>p_completed</th>\n",
       "      <th>p_certified</th>\n",
       "    </tr>\n",
       "  </thead>\n",
       "  <tbody>\n",
       "    <tr>\n",
       "      <th>mean</th>\n",
       "      <td>48.02</td>\n",
       "      <td>25.59</td>\n",
       "      <td>6.39</td>\n",
       "      <td>5.03</td>\n",
       "    </tr>\n",
       "    <tr>\n",
       "      <th>median</th>\n",
       "      <td>51.01</td>\n",
       "      <td>19.84</td>\n",
       "      <td>4.42</td>\n",
       "      <td>2.88</td>\n",
       "    </tr>\n",
       "    <tr>\n",
       "      <th>std</th>\n",
       "      <td>15.49</td>\n",
       "      <td>19.54</td>\n",
       "      <td>6.62</td>\n",
       "      <td>6.04</td>\n",
       "    </tr>\n",
       "  </tbody>\n",
       "</table>\n",
       "</div>"
      ],
      "text/plain": [
       "        p_participants  p_explored  p_completed  p_certified\n",
       "mean             48.02       25.59         6.39         5.03\n",
       "median           51.01       19.84         4.42         2.88\n",
       "std              15.49       19.54         6.62         6.04"
      ]
     },
     "execution_count": 18,
     "metadata": {},
     "output_type": "execute_result"
    }
   ],
   "source": [
    "agg_data_by_course"
   ]
  },
  {
   "cell_type": "code",
   "execution_count": 19,
   "metadata": {},
   "outputs": [],
   "source": [
    "agg_data_by_course.to_csv('Table_S4.csv', index = False)"
   ]
  },
  {
   "cell_type": "markdown",
   "metadata": {},
   "source": [
    "### Table S1 - HarvardX and MITx Churn Rate"
   ]
  },
  {
   "cell_type": "code",
   "execution_count": 20,
   "metadata": {},
   "outputs": [],
   "source": [
    "# keeping only participants\n",
    "all_person_course = all_person_course[all_person_course['viewed'] == 1]"
   ]
  },
  {
   "cell_type": "code",
   "execution_count": 21,
   "metadata": {},
   "outputs": [],
   "source": [
    "all_person_course.set_index('user_id', inplace=True)"
   ]
  },
  {
   "cell_type": "code",
   "execution_count": 22,
   "metadata": {},
   "outputs": [],
   "source": [
    "# need to turn into a numeric to do the min afterwards\n",
    "all_person_course['year2'] = pd.to_numeric(all_person_course['year'].str.split(\" \", expand=True)[1])"
   ]
  },
  {
   "cell_type": "code",
   "execution_count": 23,
   "metadata": {},
   "outputs": [],
   "source": [
    "# we compute the registration year per user\n",
    "all_person_course['registration_year'] = all_person_course.groupby(level=0)['year2'].min()"
   ]
  },
  {
   "cell_type": "code",
   "execution_count": 24,
   "metadata": {},
   "outputs": [],
   "source": [
    "# group by registration year and runnig year to compute number of unique users per each one\n",
    "attrition_by_year = all_person_course.reset_index().groupby(['registration_year', 'year2']).agg({'user_id': pd.Series.nunique}).reset_index()"
   ]
  },
  {
   "cell_type": "code",
   "execution_count": 25,
   "metadata": {},
   "outputs": [],
   "source": [
    "attrition_by_year = attrition_by_year.rename(columns={'user_id': 'unique_learners', 'year2': 'year'})"
   ]
  },
  {
   "cell_type": "code",
   "execution_count": 26,
   "metadata": {},
   "outputs": [],
   "source": [
    "# add the initial size of each registration year cohort\n",
    "attrition_by_year = pd.merge(attrition_by_year, \n",
    "                             attrition_by_year.groupby('registration_year').agg({'unique_learners':'first'}).reset_index().rename(columns={'unique_learners':'cohort_learners'}),\n",
    "                             on = 'registration_year', how = 'left')"
   ]
  },
  {
   "cell_type": "code",
   "execution_count": 27,
   "metadata": {},
   "outputs": [],
   "source": [
    "# computing retention in each running year per cohort\n",
    "attrition_by_year['percentage_retention'] = round(100*attrition_by_year['unique_learners']/attrition_by_year['cohort_learners'],2)"
   ]
  },
  {
   "cell_type": "code",
   "execution_count": 28,
   "metadata": {},
   "outputs": [],
   "source": [
    "attrition_by_year.drop(columns = 'cohort_learners', inplace=True)"
   ]
  },
  {
   "cell_type": "code",
   "execution_count": 29,
   "metadata": {},
   "outputs": [
    {
     "data": {
      "text/html": [
       "<div>\n",
       "<style scoped>\n",
       "    .dataframe tbody tr th:only-of-type {\n",
       "        vertical-align: middle;\n",
       "    }\n",
       "\n",
       "    .dataframe tbody tr th {\n",
       "        vertical-align: top;\n",
       "    }\n",
       "\n",
       "    .dataframe thead th {\n",
       "        text-align: right;\n",
       "    }\n",
       "</style>\n",
       "<table border=\"1\" class=\"dataframe\">\n",
       "  <thead>\n",
       "    <tr style=\"text-align: right;\">\n",
       "      <th></th>\n",
       "      <th>registration_year</th>\n",
       "      <th>year</th>\n",
       "      <th>unique_learners</th>\n",
       "      <th>percentage_retention</th>\n",
       "    </tr>\n",
       "  </thead>\n",
       "  <tbody>\n",
       "    <tr>\n",
       "      <th>0</th>\n",
       "      <td>1.0</td>\n",
       "      <td>1.0</td>\n",
       "      <td>192255</td>\n",
       "      <td>100.00</td>\n",
       "    </tr>\n",
       "    <tr>\n",
       "      <th>1</th>\n",
       "      <td>1.0</td>\n",
       "      <td>2.0</td>\n",
       "      <td>72093</td>\n",
       "      <td>37.50</td>\n",
       "    </tr>\n",
       "    <tr>\n",
       "      <th>2</th>\n",
       "      <td>1.0</td>\n",
       "      <td>3.0</td>\n",
       "      <td>46494</td>\n",
       "      <td>24.18</td>\n",
       "    </tr>\n",
       "    <tr>\n",
       "      <th>3</th>\n",
       "      <td>1.0</td>\n",
       "      <td>4.0</td>\n",
       "      <td>36089</td>\n",
       "      <td>18.77</td>\n",
       "    </tr>\n",
       "    <tr>\n",
       "      <th>4</th>\n",
       "      <td>1.0</td>\n",
       "      <td>5.0</td>\n",
       "      <td>21690</td>\n",
       "      <td>11.28</td>\n",
       "    </tr>\n",
       "    <tr>\n",
       "      <th>5</th>\n",
       "      <td>1.0</td>\n",
       "      <td>6.0</td>\n",
       "      <td>15059</td>\n",
       "      <td>7.83</td>\n",
       "    </tr>\n",
       "    <tr>\n",
       "      <th>6</th>\n",
       "      <td>2.0</td>\n",
       "      <td>2.0</td>\n",
       "      <td>755800</td>\n",
       "      <td>100.00</td>\n",
       "    </tr>\n",
       "    <tr>\n",
       "      <th>7</th>\n",
       "      <td>2.0</td>\n",
       "      <td>3.0</td>\n",
       "      <td>205814</td>\n",
       "      <td>27.23</td>\n",
       "    </tr>\n",
       "    <tr>\n",
       "      <th>8</th>\n",
       "      <td>2.0</td>\n",
       "      <td>4.0</td>\n",
       "      <td>146713</td>\n",
       "      <td>19.41</td>\n",
       "    </tr>\n",
       "    <tr>\n",
       "      <th>9</th>\n",
       "      <td>2.0</td>\n",
       "      <td>5.0</td>\n",
       "      <td>76780</td>\n",
       "      <td>10.16</td>\n",
       "    </tr>\n",
       "    <tr>\n",
       "      <th>10</th>\n",
       "      <td>2.0</td>\n",
       "      <td>6.0</td>\n",
       "      <td>51996</td>\n",
       "      <td>6.88</td>\n",
       "    </tr>\n",
       "    <tr>\n",
       "      <th>11</th>\n",
       "      <td>3.0</td>\n",
       "      <td>3.0</td>\n",
       "      <td>630992</td>\n",
       "      <td>100.00</td>\n",
       "    </tr>\n",
       "    <tr>\n",
       "      <th>12</th>\n",
       "      <td>3.0</td>\n",
       "      <td>4.0</td>\n",
       "      <td>145499</td>\n",
       "      <td>23.06</td>\n",
       "    </tr>\n",
       "    <tr>\n",
       "      <th>13</th>\n",
       "      <td>3.0</td>\n",
       "      <td>5.0</td>\n",
       "      <td>60971</td>\n",
       "      <td>9.66</td>\n",
       "    </tr>\n",
       "    <tr>\n",
       "      <th>14</th>\n",
       "      <td>3.0</td>\n",
       "      <td>6.0</td>\n",
       "      <td>38530</td>\n",
       "      <td>6.11</td>\n",
       "    </tr>\n",
       "    <tr>\n",
       "      <th>15</th>\n",
       "      <td>4.0</td>\n",
       "      <td>4.0</td>\n",
       "      <td>1108858</td>\n",
       "      <td>100.00</td>\n",
       "    </tr>\n",
       "    <tr>\n",
       "      <th>16</th>\n",
       "      <td>4.0</td>\n",
       "      <td>5.0</td>\n",
       "      <td>129562</td>\n",
       "      <td>11.68</td>\n",
       "    </tr>\n",
       "    <tr>\n",
       "      <th>17</th>\n",
       "      <td>4.0</td>\n",
       "      <td>6.0</td>\n",
       "      <td>92977</td>\n",
       "      <td>8.38</td>\n",
       "    </tr>\n",
       "    <tr>\n",
       "      <th>18</th>\n",
       "      <td>5.0</td>\n",
       "      <td>5.0</td>\n",
       "      <td>531213</td>\n",
       "      <td>100.00</td>\n",
       "    </tr>\n",
       "    <tr>\n",
       "      <th>19</th>\n",
       "      <td>5.0</td>\n",
       "      <td>6.0</td>\n",
       "      <td>53030</td>\n",
       "      <td>9.98</td>\n",
       "    </tr>\n",
       "    <tr>\n",
       "      <th>20</th>\n",
       "      <td>6.0</td>\n",
       "      <td>6.0</td>\n",
       "      <td>499736</td>\n",
       "      <td>100.00</td>\n",
       "    </tr>\n",
       "  </tbody>\n",
       "</table>\n",
       "</div>"
      ],
      "text/plain": [
       "    registration_year  year  unique_learners  percentage_retention\n",
       "0                 1.0   1.0           192255                100.00\n",
       "1                 1.0   2.0            72093                 37.50\n",
       "2                 1.0   3.0            46494                 24.18\n",
       "3                 1.0   4.0            36089                 18.77\n",
       "4                 1.0   5.0            21690                 11.28\n",
       "5                 1.0   6.0            15059                  7.83\n",
       "6                 2.0   2.0           755800                100.00\n",
       "7                 2.0   3.0           205814                 27.23\n",
       "8                 2.0   4.0           146713                 19.41\n",
       "9                 2.0   5.0            76780                 10.16\n",
       "10                2.0   6.0            51996                  6.88\n",
       "11                3.0   3.0           630992                100.00\n",
       "12                3.0   4.0           145499                 23.06\n",
       "13                3.0   5.0            60971                  9.66\n",
       "14                3.0   6.0            38530                  6.11\n",
       "15                4.0   4.0          1108858                100.00\n",
       "16                4.0   5.0           129562                 11.68\n",
       "17                4.0   6.0            92977                  8.38\n",
       "18                5.0   5.0           531213                100.00\n",
       "19                5.0   6.0            53030                  9.98\n",
       "20                6.0   6.0           499736                100.00"
      ]
     },
     "execution_count": 29,
     "metadata": {},
     "output_type": "execute_result"
    }
   ],
   "source": [
    "attrition_by_year"
   ]
  },
  {
   "cell_type": "code",
   "execution_count": 30,
   "metadata": {},
   "outputs": [],
   "source": [
    "attrition_by_year.to_csv('Table_S1.csv', index = False)"
   ]
  },
  {
   "cell_type": "markdown",
   "metadata": {},
   "source": [
    "### Table S3 HarvardX and MITx Course Completion by Year and Cohort of Learners"
   ]
  },
  {
   "cell_type": "code",
   "execution_count": 31,
   "metadata": {},
   "outputs": [],
   "source": [
    "# this is the cohort of participants (we already filtered to keep only participants before, so no need to do it again here)\n",
    "completion_participants = all_person_course[['year', 'viewed', 'completed']].groupby('year').sum().reset_index()"
   ]
  },
  {
   "cell_type": "code",
   "execution_count": 32,
   "metadata": {},
   "outputs": [],
   "source": [
    "completion_participants['p_completed'] = round(100*(completion_participants['completed']/completion_participants['viewed']), 2)\n",
    "completion_participants['cohort'] = 'participants'"
   ]
  },
  {
   "cell_type": "code",
   "execution_count": 33,
   "metadata": {},
   "outputs": [],
   "source": [
    "# subsetting registrations of students where they self-reported intention to complete\n",
    "# due to differences in survey fields over the years we need to use several fields\n",
    "completion_intended = all_person_course[(all_person_course['prs_reason_lc'] == 3) \n",
    "                  | (all_person_course['prs_intent'] == 3)\n",
    "                  | (all_person_course['prs_intent_verified'] == 1) \n",
    "                  | (all_person_course['prs_intent_assess'] == 3)\n",
    "                  | (all_person_course['prs_intent_lecture'] == 3)][['year', 'viewed', 'completed']].groupby('year').sum().reset_index()"
   ]
  },
  {
   "cell_type": "code",
   "execution_count": 34,
   "metadata": {},
   "outputs": [],
   "source": [
    "completion_intended['p_completed'] = round(100*(completion_intended['completed']/completion_intended['viewed']), 2)\n",
    "completion_intended['cohort'] = 'intend_complete'"
   ]
  },
  {
   "cell_type": "code",
   "execution_count": 35,
   "metadata": {},
   "outputs": [],
   "source": [
    "# subsetting registrations of students that paid to enter the verified track\n",
    "completition_verified = all_person_course[all_person_course['mode'] == 'verified'][['year', 'viewed', 'completed']].groupby('year').sum().reset_index()"
   ]
  },
  {
   "cell_type": "code",
   "execution_count": 36,
   "metadata": {},
   "outputs": [],
   "source": [
    "completition_verified['p_completed'] = round(100*(completition_verified['completed']/completition_verified['viewed']), 2)\n",
    "completition_verified['cohort'] = 'verified'"
   ]
  },
  {
   "cell_type": "code",
   "execution_count": 37,
   "metadata": {},
   "outputs": [],
   "source": [
    "# concatenating the three cohorts together\n",
    "completion_by_cohort = pd.concat([completion_participants, completion_intended, completition_verified]).rename(columns = {'viewed':'n_participants',\n",
    "                                                                                                                          'completed':'n_completed'})"
   ]
  },
  {
   "cell_type": "code",
   "execution_count": 38,
   "metadata": {},
   "outputs": [],
   "source": [
    "# removing Year 1 since it did not have surveys or verified track\n",
    "completion_by_cohort = completion_by_cohort[~(completion_by_cohort['year'] == 'Year 1')]"
   ]
  },
  {
   "cell_type": "code",
   "execution_count": 39,
   "metadata": {
    "scrolled": false
   },
   "outputs": [
    {
     "data": {
      "text/html": [
       "<div>\n",
       "<style scoped>\n",
       "    .dataframe tbody tr th:only-of-type {\n",
       "        vertical-align: middle;\n",
       "    }\n",
       "\n",
       "    .dataframe tbody tr th {\n",
       "        vertical-align: top;\n",
       "    }\n",
       "\n",
       "    .dataframe thead th {\n",
       "        text-align: right;\n",
       "    }\n",
       "</style>\n",
       "<table border=\"1\" class=\"dataframe\">\n",
       "  <thead>\n",
       "    <tr style=\"text-align: right;\">\n",
       "      <th></th>\n",
       "      <th>year</th>\n",
       "      <th>n_participants</th>\n",
       "      <th>n_completed</th>\n",
       "      <th>p_completed</th>\n",
       "      <th>cohort</th>\n",
       "    </tr>\n",
       "  </thead>\n",
       "  <tbody>\n",
       "    <tr>\n",
       "      <th>1</th>\n",
       "      <td>Year 2</td>\n",
       "      <td>1219030</td>\n",
       "      <td>60285.0</td>\n",
       "      <td>4.95</td>\n",
       "      <td>participants</td>\n",
       "    </tr>\n",
       "    <tr>\n",
       "      <th>2</th>\n",
       "      <td>Year 3</td>\n",
       "      <td>1333780</td>\n",
       "      <td>78085.0</td>\n",
       "      <td>5.85</td>\n",
       "      <td>participants</td>\n",
       "    </tr>\n",
       "    <tr>\n",
       "      <th>3</th>\n",
       "      <td>Year 4</td>\n",
       "      <td>1958222</td>\n",
       "      <td>80495.0</td>\n",
       "      <td>4.11</td>\n",
       "      <td>participants</td>\n",
       "    </tr>\n",
       "    <tr>\n",
       "      <th>4</th>\n",
       "      <td>Year 5</td>\n",
       "      <td>1097759</td>\n",
       "      <td>43726.0</td>\n",
       "      <td>3.98</td>\n",
       "      <td>participants</td>\n",
       "    </tr>\n",
       "    <tr>\n",
       "      <th>5</th>\n",
       "      <td>Year 6</td>\n",
       "      <td>980589</td>\n",
       "      <td>30650.0</td>\n",
       "      <td>3.13</td>\n",
       "      <td>participants</td>\n",
       "    </tr>\n",
       "    <tr>\n",
       "      <th>0</th>\n",
       "      <td>Year 2</td>\n",
       "      <td>178909</td>\n",
       "      <td>20593.0</td>\n",
       "      <td>11.51</td>\n",
       "      <td>intend_complete</td>\n",
       "    </tr>\n",
       "    <tr>\n",
       "      <th>1</th>\n",
       "      <td>Year 3</td>\n",
       "      <td>191578</td>\n",
       "      <td>33986.0</td>\n",
       "      <td>17.74</td>\n",
       "      <td>intend_complete</td>\n",
       "    </tr>\n",
       "    <tr>\n",
       "      <th>2</th>\n",
       "      <td>Year 4</td>\n",
       "      <td>209333</td>\n",
       "      <td>34416.0</td>\n",
       "      <td>16.44</td>\n",
       "      <td>intend_complete</td>\n",
       "    </tr>\n",
       "    <tr>\n",
       "      <th>3</th>\n",
       "      <td>Year 5</td>\n",
       "      <td>74116</td>\n",
       "      <td>11952.0</td>\n",
       "      <td>16.13</td>\n",
       "      <td>intend_complete</td>\n",
       "    </tr>\n",
       "    <tr>\n",
       "      <th>4</th>\n",
       "      <td>Year 6</td>\n",
       "      <td>42005</td>\n",
       "      <td>6478.0</td>\n",
       "      <td>15.42</td>\n",
       "      <td>intend_complete</td>\n",
       "    </tr>\n",
       "    <tr>\n",
       "      <th>0</th>\n",
       "      <td>Year 2</td>\n",
       "      <td>6790</td>\n",
       "      <td>3003.0</td>\n",
       "      <td>44.23</td>\n",
       "      <td>verified</td>\n",
       "    </tr>\n",
       "    <tr>\n",
       "      <th>1</th>\n",
       "      <td>Year 3</td>\n",
       "      <td>27490</td>\n",
       "      <td>13792.0</td>\n",
       "      <td>50.17</td>\n",
       "      <td>verified</td>\n",
       "    </tr>\n",
       "    <tr>\n",
       "      <th>2</th>\n",
       "      <td>Year 4</td>\n",
       "      <td>52384</td>\n",
       "      <td>26051.0</td>\n",
       "      <td>49.73</td>\n",
       "      <td>verified</td>\n",
       "    </tr>\n",
       "    <tr>\n",
       "      <th>3</th>\n",
       "      <td>Year 5</td>\n",
       "      <td>47362</td>\n",
       "      <td>26725.0</td>\n",
       "      <td>56.43</td>\n",
       "      <td>verified</td>\n",
       "    </tr>\n",
       "    <tr>\n",
       "      <th>4</th>\n",
       "      <td>Year 6</td>\n",
       "      <td>46326</td>\n",
       "      <td>21321.0</td>\n",
       "      <td>46.02</td>\n",
       "      <td>verified</td>\n",
       "    </tr>\n",
       "  </tbody>\n",
       "</table>\n",
       "</div>"
      ],
      "text/plain": [
       "     year  n_participants  n_completed  p_completed           cohort\n",
       "1  Year 2         1219030      60285.0         4.95     participants\n",
       "2  Year 3         1333780      78085.0         5.85     participants\n",
       "3  Year 4         1958222      80495.0         4.11     participants\n",
       "4  Year 5         1097759      43726.0         3.98     participants\n",
       "5  Year 6          980589      30650.0         3.13     participants\n",
       "0  Year 2          178909      20593.0        11.51  intend_complete\n",
       "1  Year 3          191578      33986.0        17.74  intend_complete\n",
       "2  Year 4          209333      34416.0        16.44  intend_complete\n",
       "3  Year 5           74116      11952.0        16.13  intend_complete\n",
       "4  Year 6           42005       6478.0        15.42  intend_complete\n",
       "0  Year 2            6790       3003.0        44.23         verified\n",
       "1  Year 3           27490      13792.0        50.17         verified\n",
       "2  Year 4           52384      26051.0        49.73         verified\n",
       "3  Year 5           47362      26725.0        56.43         verified\n",
       "4  Year 6           46326      21321.0        46.02         verified"
      ]
     },
     "execution_count": 39,
     "metadata": {},
     "output_type": "execute_result"
    }
   ],
   "source": [
    "completion_by_cohort"
   ]
  },
  {
   "cell_type": "code",
   "execution_count": 40,
   "metadata": {},
   "outputs": [],
   "source": [
    "completion_by_cohort.to_csv('Table_S3.csv', index = False)"
   ]
  }
 ],
 "metadata": {
  "kernelspec": {
   "display_name": "Python 3",
   "language": "python",
   "name": "python3"
  },
  "language_info": {
   "codemirror_mode": {
    "name": "ipython",
    "version": 3
   },
   "file_extension": ".py",
   "mimetype": "text/x-python",
   "name": "python",
   "nbconvert_exporter": "python",
   "pygments_lexer": "ipython3",
   "version": "3.6.5"
  }
 },
 "nbformat": 4,
 "nbformat_minor": 2
}
